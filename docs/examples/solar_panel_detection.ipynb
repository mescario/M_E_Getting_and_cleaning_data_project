{
  "cells": [
    {
      "cell_type": "markdown",
      "metadata": {
        "id": "-6mpnzV1XQQ1"
      },
      "source": [
        "# Solar Panel Detection\n",
        "\n",
        "This notebook demonstrates how to use the geoai package for solar panel detection using a pre-trained model.\n",
        "\n",
        "[![image](https://colab.research.google.com/assets/colab-badge.svg)](https://colab.research.google.com/github/opengeos/geoai/blob/main/docs/examples/solar_panel_detection.ipynb)\n",
        "\n",
        "## Install package\n",
        "To use the `geoai-py` package, ensure it is installed in your environment. Uncomment the command below if needed."
      ]
    },
    {
      "cell_type": "code",
      "execution_count": null,
      "metadata": {
        "id": "Fb3AKDHwXQQ3"
      },
      "outputs": [],
      "source": [
        "# %pip install geoai-py"
      ]
    },
    {
      "cell_type": "markdown",
      "metadata": {
        "id": "oTATXcjDXQQ4"
      },
      "source": [
        "## Import libraries"
      ]
    },
    {
      "cell_type": "code",
      "execution_count": 1,
      "metadata": {
        "id": "rF30P-eAXQQ4",
        "outputId": "fd995cd7-deba-40e6-91ed-898367f54145",
        "colab": {
          "base_uri": "https://localhost:8080/",
          "height": 314
        }
      },
      "outputs": [
        {
          "output_type": "error",
          "ename": "ModuleNotFoundError",
          "evalue": "No module named 'geoai'",
          "traceback": [
            "\u001b[0;31m---------------------------------------------------------------------------\u001b[0m",
            "\u001b[0;31mModuleNotFoundError\u001b[0m                       Traceback (most recent call last)",
            "\u001b[0;32m<ipython-input-1-0f412727a437>\u001b[0m in \u001b[0;36m<cell line: 0>\u001b[0;34m()\u001b[0m\n\u001b[0;32m----> 1\u001b[0;31m \u001b[0;32mimport\u001b[0m \u001b[0mgeoai\u001b[0m\u001b[0;34m\u001b[0m\u001b[0;34m\u001b[0m\u001b[0m\n\u001b[0m",
            "\u001b[0;31mModuleNotFoundError\u001b[0m: No module named 'geoai'",
            "",
            "\u001b[0;31m---------------------------------------------------------------------------\u001b[0;32m\nNOTE: If your import is failing due to a missing package, you can\nmanually install dependencies using either !pip or !apt.\n\nTo view examples of installing some common dependencies, click the\n\"Open Examples\" button below.\n\u001b[0;31m---------------------------------------------------------------------------\u001b[0m\n"
          ],
          "errorDetails": {
            "actions": [
              {
                "action": "open_url",
                "actionText": "Open Examples",
                "url": "/notebooks/snippets/importing_libraries.ipynb"
              }
            ]
          }
        }
      ],
      "source": [
        "import geoai"
      ]
    },
    {
      "cell_type": "markdown",
      "metadata": {
        "id": "rrKVaBD2XQQ4"
      },
      "source": [
        "## Download sample data"
      ]
    },
    {
      "cell_type": "code",
      "execution_count": null,
      "metadata": {
        "id": "5-lvc7I1XQQ4"
      },
      "outputs": [],
      "source": [
        "raster_url = \"https://huggingface.co/datasets/giswqs/geospatial/resolve/main/solar_panels_davis_ca.tif\"\n",
        "raster_path = geoai.download_file(raster_url)"
      ]
    },
    {
      "cell_type": "code",
      "execution_count": null,
      "metadata": {
        "id": "cLMxmJWmXQQ5"
      },
      "outputs": [],
      "source": [
        "geoai.print_raster_info(raster_path)"
      ]
    },
    {
      "cell_type": "markdown",
      "metadata": {
        "id": "WnEYxQw9XQQ5"
      },
      "source": [
        "## Visualize data"
      ]
    },
    {
      "cell_type": "code",
      "execution_count": null,
      "metadata": {
        "id": "QS7MPpVoXQQ5"
      },
      "outputs": [],
      "source": [
        "geoai.view_raster(raster_url)"
      ]
    },
    {
      "cell_type": "markdown",
      "metadata": {
        "id": "8eOJi9SsXQQ5"
      },
      "source": [
        "## Initialize model"
      ]
    },
    {
      "cell_type": "code",
      "execution_count": null,
      "metadata": {
        "id": "GEib99orXQQ6"
      },
      "outputs": [],
      "source": [
        "detector = geoai.SolarPanelDetector()"
      ]
    },
    {
      "cell_type": "markdown",
      "metadata": {
        "id": "YfQmO36LXQQ6"
      },
      "source": [
        "## Generate masks"
      ]
    },
    {
      "cell_type": "code",
      "execution_count": null,
      "metadata": {
        "id": "Px1aT_nFXQQ6"
      },
      "outputs": [],
      "source": [
        "output_path = \"solar_panel_masks.tif\""
      ]
    },
    {
      "cell_type": "code",
      "execution_count": null,
      "metadata": {
        "id": "mTBK3hoxXQQ6"
      },
      "outputs": [],
      "source": [
        "masks_path = detector.generate_masks(\n",
        "    raster_path,\n",
        "    output_path=output_path,\n",
        "    confidence_threshold=0.4,\n",
        "    mask_threshold=0.5,\n",
        "    min_object_area=100,\n",
        "    overlap=0.25,\n",
        "    chip_size=(400, 400),\n",
        "    batch_size=4,\n",
        "    verbose=False,\n",
        ")"
      ]
    },
    {
      "cell_type": "markdown",
      "metadata": {
        "id": "FqyhSwQvXQQ6"
      },
      "source": [
        "## Visualize masks"
      ]
    },
    {
      "cell_type": "code",
      "execution_count": null,
      "metadata": {
        "id": "LHgRDYexXQQ6"
      },
      "outputs": [],
      "source": [
        "geoai.view_raster(\n",
        "    output_path,\n",
        "    indexes=[2],\n",
        "    colormap=\"autumn\",\n",
        "    layer_name=\"Solar Panels\",\n",
        "    basemap=raster_url,\n",
        ")"
      ]
    },
    {
      "cell_type": "markdown",
      "metadata": {
        "id": "cFFA2BjrXQQ6"
      },
      "source": [
        "## Vectorize masks"
      ]
    },
    {
      "cell_type": "code",
      "execution_count": null,
      "metadata": {
        "id": "y23giEYaXQQ6"
      },
      "outputs": [],
      "source": [
        "gdf = geoai.orthogonalize(\n",
        "    input_path=masks_path, output_path=\"solar_panel_masks.geojson\", epsilon=0.2\n",
        ")"
      ]
    },
    {
      "cell_type": "markdown",
      "metadata": {
        "id": "UzRriJUWXQQ7"
      },
      "source": [
        "## Visualize initial results"
      ]
    },
    {
      "cell_type": "code",
      "execution_count": null,
      "metadata": {
        "id": "rePFzyOIXQQ7"
      },
      "outputs": [],
      "source": [
        "geoai.view_vector_interactive(gdf, tiles=raster_url)"
      ]
    },
    {
      "cell_type": "markdown",
      "metadata": {
        "id": "9efZOLSXXQQ7"
      },
      "source": [
        "## Calculate geometric properties"
      ]
    },
    {
      "cell_type": "code",
      "execution_count": null,
      "metadata": {
        "id": "qAlLi0oJXQQ7"
      },
      "outputs": [],
      "source": [
        "gdf = geoai.add_geometric_properties(gdf)\n",
        "gdf.head()"
      ]
    },
    {
      "cell_type": "code",
      "execution_count": null,
      "metadata": {
        "id": "PIZTlfmsXQQ7"
      },
      "outputs": [],
      "source": [
        "print(len(gdf))"
      ]
    },
    {
      "cell_type": "code",
      "execution_count": null,
      "metadata": {
        "id": "nN5yqeNTXQQ7"
      },
      "outputs": [],
      "source": [
        "geoai.view_vector_interactive(gdf, column=\"elongation\", tiles=raster_url)"
      ]
    },
    {
      "cell_type": "markdown",
      "metadata": {
        "id": "IF3bJIItXQQ7"
      },
      "source": [
        "## Filter results"
      ]
    },
    {
      "cell_type": "code",
      "execution_count": null,
      "metadata": {
        "id": "nXJz6NAiXQQ7"
      },
      "outputs": [],
      "source": [
        "gdf_filter = gdf[(gdf[\"elongation\"] < 10) & (gdf[\"area_m2\"] > 5)]\n",
        "print(len(gdf_filter))"
      ]
    },
    {
      "cell_type": "markdown",
      "metadata": {
        "id": "hX1gWVtWXQQ7"
      },
      "source": [
        "## Visualize final results"
      ]
    },
    {
      "cell_type": "code",
      "execution_count": null,
      "metadata": {
        "id": "LRgNbD_iXQQ7"
      },
      "outputs": [],
      "source": [
        "geoai.view_vector_interactive(gdf_filter, column=\"area_m2\", tiles=raster_url)"
      ]
    },
    {
      "cell_type": "code",
      "execution_count": null,
      "metadata": {
        "id": "ZjBPZDkPXQQ7"
      },
      "outputs": [],
      "source": [
        "geoai.view_vector_interactive(\n",
        "    gdf_filter, style_kwds={\"color\": \"red\", \"fillOpacity\": 0}, tiles=raster_url\n",
        ")"
      ]
    },
    {
      "cell_type": "code",
      "execution_count": null,
      "metadata": {
        "id": "iBYepbJ-XQQ7"
      },
      "outputs": [],
      "source": [
        "gdf_filter[\"area_m2\"].hist()"
      ]
    },
    {
      "cell_type": "code",
      "execution_count": null,
      "metadata": {
        "id": "Gq1x_DUIXQQ7"
      },
      "outputs": [],
      "source": [
        "gdf_filter[\"area_m2\"].describe()"
      ]
    },
    {
      "cell_type": "code",
      "execution_count": null,
      "metadata": {
        "id": "qbXQZrFuXQQ8"
      },
      "outputs": [],
      "source": [
        "gdf_filter[\"area_m2\"].sum()"
      ]
    },
    {
      "cell_type": "markdown",
      "metadata": {
        "id": "9HypKpUUXQQ8"
      },
      "source": [
        "## Save results"
      ]
    },
    {
      "cell_type": "code",
      "execution_count": null,
      "metadata": {
        "id": "_GJ60ph0XQQ8"
      },
      "outputs": [],
      "source": [
        "gdf_filter.to_file(\"solar_panels.geojson\")"
      ]
    },
    {
      "cell_type": "markdown",
      "metadata": {
        "id": "--9otul5XQQ8"
      },
      "source": [
        "![image](https://github.com/user-attachments/assets/a38925dc-b840-42b0-a926-326ef99b181c)"
      ]
    }
  ],
  "metadata": {
    "kernelspec": {
      "display_name": "geo",
      "language": "python",
      "name": "python3"
    },
    "language_info": {
      "codemirror_mode": {
        "name": "ipython",
        "version": 3
      },
      "file_extension": ".py",
      "mimetype": "text/x-python",
      "name": "python",
      "nbconvert_exporter": "python",
      "pygments_lexer": "ipython3",
      "version": "3.12.9"
    },
    "colab": {
      "provenance": []
    }
  },
  "nbformat": 4,
  "nbformat_minor": 0
}